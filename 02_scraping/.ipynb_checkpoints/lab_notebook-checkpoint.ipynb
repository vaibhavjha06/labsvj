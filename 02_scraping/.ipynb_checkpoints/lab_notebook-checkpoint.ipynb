{
 "cells": [
  {
   "cell_type": "markdown",
   "metadata": {
    "id": "IU2Oe2lgy3XV"
   },
   "source": [
    "# Web Scraping\n",
    "\n",
    "Last time, we looked at REST API's as a source of data. You can get lots of very high quality data this way.\n",
    "\n",
    "Some data is available online, but not through an API. When this is the case, some times you can simply copy and paste the data into a .csv file and go on with your life. But if there are many records to parse and combine into a dataset, that might be impossible. Can we automate the collection of data from online sources?\n",
    "\n",
    "This is called web scraping. Broadly speaking: Web scraping is legal, but what you plan to do with the results of your scraping might not be. In general, most sites do not want you to scrape them at this point, but there is not really a way to stop you if you are sufficiently motivated. Be careful to use server resources respectfully (not too many requests per unit time), think seriously about privacy concerns, and be careful who you share your work with."
   ]
  },
  {
   "cell_type": "markdown",
   "metadata": {
    "id": "ui3HNFVXy3XX"
   },
   "source": [
    "We'll be scraping data about used cars in Charlottesville from Craigslist. This will give us a chance to put those wrangling, EDA, and visualization skills to work.\n",
    "\n",
    "We'll use the `requests` package, as we did with API's, but will be getting the kinds of web pages you see everyday. Again, we'll use a header with a user-agent that masks our true identity so that we're not rejected by the server. This particular url points to the car listings for Craigslist in Charlottesville."
   ]
  },
  {
   "cell_type": "markdown",
   "metadata": {
    "id": "a8yVtKAxy3XY"
   },
   "source": [
    "## 1. Pick something else on Craigslist: Musical instruments, roommates, antiques, etc. Look at the search page and its source code. Record which fields/data you would like to gather, and what kinds of EDA you'd do with it. I look at used cars below."
   ]
  },
  {
   "cell_type": "code",
   "execution_count": null,
   "metadata": {
    "id": "bT63yifry3XX"
   },
   "outputs": [],
   "source": [
    "import numpy as np\n",
    "import matplotlib.pyplot as plt\n",
    "import pandas as pd\n",
    "import seaborn as sns\n",
    "\n",
    "import requests # Page requests\n",
    "\n",
    "header = {'User-Agent': 'Mozilla/5.0 (Windows NT 10.0; Win64; x64; rv:124.0) Gecko/20100101 Firefox/124.0'}\n",
    "url = 'https://charlottesville.craigslist.org/search/cta?purveyor=owner#search=1~gallery~0~0'\n",
    "raw = requests.get(url,headers=header) # Get page"
   ]
  },
  {
   "cell_type": "code",
   "execution_count": 1,
   "metadata": {},
   "outputs": [],
   "source": [
    "import numpy as np\n",
    "import matplotlib.pyplot as plt\n",
    "import pandas as pd\n",
    "import seaborn as sns\n",
    "\n",
    "import requests\n",
    "\n",
    "url = 'https://charlottesville.craigslist.org/search/apa#search=1~gallery~0~0'\n",
    "raw = requests.get(url)"
   ]
  },
  {
   "cell_type": "markdown",
   "metadata": {
    "id": "GS1XkRlXy3XX"
   },
   "source": [
    "Now that we have that particular page available locally, we want to **parse** it and get results from it. To do that, we can use a package called `beautifulSoup` or `bs4`.\n",
    "\n",
    "What does `beautifulSoup` do for us? Let's go to the web page of interest. You probably see something like this:\n",
    "\n",
    "![Listings](craigslist.png \"Craigslist\")\n",
    "\n",
    "But if you \"view page source\" -- which is CTRL+U -- in Chrome, you see what the computer sees:\n",
    "\n",
    "![Listings](craigslist_source.png \"Craigslist\")\n",
    "\n",
    "Since your web browser needs lots of instructions about how to render the text, pictures, and other content on your web page, there are a lot of clues about where the data live and how to extricate them from a page. These clues are called **tags**. If you wander the source for the search page on cars, you see a particular `class = \"cl-static-search-result\"` term appear attached to each listing:\n",
    "\n",
    "![Listings](listing.png \"Craigslist\")\n",
    "\n",
    "This structure can be exploited to search the page for information. This kind of detective work -- looking at the page source, finding the interesting tages, and then searching the page with `beautifulSoup` -- is the basic job of web scraping."
   ]
  },
  {
   "cell_type": "markdown",
   "metadata": {
    "id": "NiO-E2wuy3XZ"
   },
   "source": [
    "## 2. Get your search results of interest and extract data from them, using code similar to what's below."
   ]
  },
  {
   "cell_type": "markdown",
   "metadata": {
    "id": "fEO2NpZ8y3XY"
   },
   "source": [
    "The following code chunk takes the raw content from `requests` and turns it into a beautifulSoup object, which can search the page and return results for us:"
   ]
  },
  {
   "cell_type": "code",
   "execution_count": null,
   "metadata": {
    "id": "lllobrYIy3XY"
   },
   "outputs": [],
   "source": [
    "from bs4 import BeautifulSoup as soup # HTML parser\n",
    "bsObj = soup(raw.content,'html.parser') # Parse the html\n",
    "listings = bsObj.find_all(class_=\"cl-static-search-result\") # Find all listings"
   ]
  },
  {
   "cell_type": "code",
   "execution_count": 2,
   "metadata": {},
   "outputs": [],
   "source": [
    "from bs4 import BeautifulSoup as soup\n",
    "bs0bj = soup(raw.content, 'html.parser')\n",
    "housing = bs0bj.find_all(class_=\"cl-static-search-result\")\n"
   ]
  },
  {
   "cell_type": "markdown",
   "metadata": {
    "id": "ymO8JbMmy3XY"
   },
   "source": [
    "Why is the argument `class_` and not just `class`? The word `class` is a reserved keyword for Python, and cannot be used by anyone else, similar to `True` and `False`. But since we want the `class = \"cl-static-search-result\"` terms, we need to use the `class_` argument to the `.find_all` method.\n",
    "\n",
    "The `.find_all` function dredges the entire page and finds all the instances of `class = \"cl-static-search-result\"`, resulting in a list of entries. We can then parse the entries.\n",
    "\n",
    "For each listing, we'll use the `.find` method to search within the listing record for specific information. To get the information we want, we can then use `.get_text()`.\n",
    "\n",
    "In the code below, two more things happen.\n",
    "\n",
    "First, I would like to get the brand of the car from the post title, if possible. To do this, I split the title into words using `title.split()`, and then I use a list comprehension to look over every word in the title and check whether it appears in the `brands` list.\n",
    "\n",
    "Second, I would like to get the year the car was built, so I can determine the vehicle's age. To do this, I use a thing called **regular expressions** that provides a language for expressing patterns. Do I remember how to do this off the top of my head? No, I read a few pages in a book and looked on StackOverflow for answers. Roughly, in order to express the idea \"any year starting with 20xx,\" you can write `20[0-9][0-9]`, and for \"any year starting with 19xx,\" you can write `19[0-9][0-9]`. The `[0-9]`'s act as wildcards for any digit. This allows me to use the `re` package to find any instances of year-like numbers in the title text, using `re.search(r'20[0-9][0-9]|19[0-9][0-9]', title )`.\n",
    "\n",
    "This is all nested in a for-loop over the listings, and the data is appended to a list."
   ]
  },
  {
   "cell_type": "code",
   "execution_count": null,
   "metadata": {
    "id": "jw-U4BA-y3XY"
   },
   "outputs": [],
   "source": [
    "import re # Regular expressions\n",
    "\n",
    "brands = ['honda', 'dodge','toyota','ford','tesla','gmc','jeep','bmw','mitsubishi','mazda',\n",
    "          'volvo','audi','volkswagen','chevy','chevrolet','acura','kia','subaru','lexus',\n",
    "          'cadillac','buick','porsche','infiniti']\n",
    "\n",
    "data = [] # We'll save our listings in this object\n",
    "for k in range( len(listings) ):\n",
    "    title = listings[k].find('div',class_='title').get_text().lower()\n",
    "    price = listings[k].find('div',class_='price').get_text()\n",
    "    link = listings[k].find(href=True)['href']\n",
    "    # Get brand from the title string:\n",
    "    words = title.split()\n",
    "    hits = [word for word in words if word in brands] # Find brands in the title\n",
    "    if len(hits) == 0:\n",
    "        brand = 'missing'\n",
    "    else:\n",
    "        brand = hits[0]\n",
    "    # Get years from title string:\n",
    "    regex_search = re.search(r'20[0-9][0-9]|19[0-9][0-9]', title ) # Find year references\n",
    "    if regex_search is None: # If no hits, record year as missing value\n",
    "        year = np.nan\n",
    "    else: # If hits, record year as first match\n",
    "        year = regex_search.group(0)\n",
    "    #\n",
    "    data.append({'title':title,'price':price,'year':year,'link':link,'brand':brand})"
   ]
  },
  {
   "cell_type": "code",
   "execution_count": null,
   "metadata": {},
   "outputs": [],
   "source": [
    "import re\n",
    "\n",
    "types = ['apt', 'apartment', 'neighborhood', 'Townhouse', 'Townhome', 'Apt', 'APT', 'home', 'HOUSE', 'Bedroom', 'Apartment', 'Apartments', 'townhouse', 'House']\n",
    "\n",
    "residence = []\n",
    "for k in range( len(housing) ):\n",
    "    title = housing[k].find('div',class_='title').get_text().lower()\n",
    "    price = housing[k].find('div',class_='price').get_text()\n",
    "    location = housing[k].find('div', class_='location')\n",
    "    link = housing[k].find(href=True)['href']\n",
    "    # Get type from the title string:\n",
    "    words = title.split()\n",
    "    hits = [word for word in words if word in types]\n",
    "    if len(hits) == 0:\n",
    "        brand = 'missing'\n",
    "    else:\n",
    "        brand = hits[0]\n",
    "    residence.append({'title':title, 'price':price, 'location':location, 'link':link, 'brand':brand})\n",
    "\n",
    "print(residence)"
   ]
  },
  {
   "cell_type": "markdown",
   "metadata": {
    "id": "v8TjNu6uy3Xa"
   },
   "source": [
    "## 3. Wrangle your data, do some EDA, and make some plots. Try to find some interesting relationships or stories to tell about your data."
   ]
  },
  {
   "cell_type": "markdown",
   "metadata": {
    "id": "Mz4zVi80y3XZ"
   },
   "source": [
    "\n",
    "With the data scraped from Craigslist, we can put it in a dataframe and wrangle it. Of course, price and year come in as text, not numbers, and need to be typecast/coerced:"
   ]
  },
  {
   "cell_type": "code",
   "execution_count": null,
   "metadata": {
    "id": "KY1njgHcy3XZ",
    "outputId": "985126b7-e5e5-40c3-ba09-ed0b56625f69"
   },
   "outputs": [],
   "source": [
    "## Wrangle the data\n",
    "df = pd.DataFrame.from_dict(data)\n",
    "df['price'] = df['price'].str.replace('$','')\n",
    "df['price'] = df['price'].str.replace(',','')\n",
    "df['price'] = pd.to_numeric(df['price'],errors='coerce')\n",
    "df['year'] = pd.to_numeric(df['year'],errors='coerce')\n",
    "df['age'] = 2025-df['year']\n",
    "print(df.shape)\n",
    "df.to_csv('craigslist_cville_cars.csv') # Save data in case of a disaster\n",
    "df.head()"
   ]
  },
  {
   "cell_type": "code",
   "execution_count": 32,
   "metadata": {},
   "outputs": [
    {
     "name": "stderr",
     "output_type": "stream",
     "text": [
      "/var/folders/09/pm65sc3x0zz1mqt79h4n83gh0000gn/T/ipykernel_7681/2045049286.py:3: FutureWarning: The default value of regex will change from True to False in a future version. In addition, single character regular expressions will *not* be treated as literal strings when regex=True.\n",
      "  living['price'] = living['price'].str.replace('$','')\n"
     ]
    },
    {
     "data": {
      "text/html": [
       "<div>\n",
       "<style scoped>\n",
       "    .dataframe tbody tr th:only-of-type {\n",
       "        vertical-align: middle;\n",
       "    }\n",
       "\n",
       "    .dataframe tbody tr th {\n",
       "        vertical-align: top;\n",
       "    }\n",
       "\n",
       "    .dataframe thead th {\n",
       "        text-align: right;\n",
       "    }\n",
       "</style>\n",
       "<table border=\"1\" class=\"dataframe\">\n",
       "  <thead>\n",
       "    <tr style=\"text-align: right;\">\n",
       "      <th></th>\n",
       "      <th>title</th>\n",
       "      <th>price</th>\n",
       "      <th>location</th>\n",
       "      <th>link</th>\n",
       "      <th>brand</th>\n",
       "    </tr>\n",
       "  </thead>\n",
       "  <tbody>\n",
       "    <tr>\n",
       "      <th>0</th>\n",
       "      <td>609 e. market st.#301 fully furnished luxury s...</td>\n",
       "      <td>2500</td>\n",
       "      <td>[\\n                        Downtown Charlottes...</td>\n",
       "      <td>https://charlottesville.craigslist.org/apa/d/c...</td>\n",
       "      <td>missing</td>\n",
       "    </tr>\n",
       "    <tr>\n",
       "      <th>1</th>\n",
       "      <td>3br/2ba luxury apt home ** on amazing special**</td>\n",
       "      <td>2369</td>\n",
       "      <td>[\\n                        The Reserve at Belv...</td>\n",
       "      <td>https://charlottesville.craigslist.org/apa/d/c...</td>\n",
       "      <td>apt</td>\n",
       "    </tr>\n",
       "    <tr>\n",
       "      <th>2</th>\n",
       "      <td>luxury 1bd/1ba apartment home.</td>\n",
       "      <td>1875</td>\n",
       "      <td>[\\n                        The Reserve at Belv...</td>\n",
       "      <td>https://charlottesville.craigslist.org/apa/d/c...</td>\n",
       "      <td>apartment</td>\n",
       "    </tr>\n",
       "    <tr>\n",
       "      <th>3</th>\n",
       "      <td>roommate wanted</td>\n",
       "      <td>1500</td>\n",
       "      <td>[\\n                        29 North\\n         ...</td>\n",
       "      <td>https://charlottesville.craigslist.org/apa/d/r...</td>\n",
       "      <td>missing</td>\n",
       "    </tr>\n",
       "    <tr>\n",
       "      <th>4</th>\n",
       "      <td>pet friendly 4br duplex - 1.9 miles from uva</td>\n",
       "      <td>3100</td>\n",
       "      <td>[\\n                        101 Westerly Ave\\n ...</td>\n",
       "      <td>https://charlottesville.craigslist.org/apa/d/c...</td>\n",
       "      <td>missing</td>\n",
       "    </tr>\n",
       "    <tr>\n",
       "      <th>5</th>\n",
       "      <td>beautiful house in great location for grad stu...</td>\n",
       "      <td>3500</td>\n",
       "      <td>[\\n                        Lewis Mountain Road...</td>\n",
       "      <td>https://charlottesville.craigslist.org/apa/d/c...</td>\n",
       "      <td>missing</td>\n",
       "    </tr>\n",
       "    <tr>\n",
       "      <th>6</th>\n",
       "      <td>check out this 4 bdrm 4 bath - apartment</td>\n",
       "      <td>3475</td>\n",
       "      <td>[\\n                        JPA/Fry Springs\\n  ...</td>\n",
       "      <td>https://charlottesville.craigslist.org/apa/d/c...</td>\n",
       "      <td>apartment</td>\n",
       "    </tr>\n",
       "    <tr>\n",
       "      <th>7</th>\n",
       "      <td>pet friendly 2 bedroom, 1.5 bath townhome</td>\n",
       "      <td>2100</td>\n",
       "      <td>[\\n                        John Street/Near Co...</td>\n",
       "      <td>https://charlottesville.craigslist.org/apa/d/c...</td>\n",
       "      <td>missing</td>\n",
       "    </tr>\n",
       "    <tr>\n",
       "      <th>8</th>\n",
       "      <td>1br 1ba within walking distance to grounds-low...</td>\n",
       "      <td>1350</td>\n",
       "      <td>[\\n                        16th Street\\n      ...</td>\n",
       "      <td>https://charlottesville.craigslist.org/apa/d/c...</td>\n",
       "      <td>missing</td>\n",
       "    </tr>\n",
       "    <tr>\n",
       "      <th>9</th>\n",
       "      <td>two bedroom pet friendly ... ash tree apartments</td>\n",
       "      <td>1875</td>\n",
       "      <td>[\\n                        Charlottesville\\n  ...</td>\n",
       "      <td>https://charlottesville.craigslist.org/apa/d/c...</td>\n",
       "      <td>missing</td>\n",
       "    </tr>\n",
       "    <tr>\n",
       "      <th>10</th>\n",
       "      <td>2101 jpa apartments are beautiful, spacious &amp; ...</td>\n",
       "      <td>3950</td>\n",
       "      <td>[\\n                        JPA/Fontaine Ave\\n ...</td>\n",
       "      <td>https://charlottesville.craigslist.org/apa/d/c...</td>\n",
       "      <td>missing</td>\n",
       "    </tr>\n",
       "    <tr>\n",
       "      <th>11</th>\n",
       "      <td>2 br townhomes, close to uva, great price!</td>\n",
       "      <td>1875</td>\n",
       "      <td>[\\n                        Madison Avenue\\n   ...</td>\n",
       "      <td>https://charlottesville.craigslist.org/apa/d/c...</td>\n",
       "      <td>missing</td>\n",
       "    </tr>\n",
       "    <tr>\n",
       "      <th>12</th>\n",
       "      <td>your search for the perfect apartment is over ...</td>\n",
       "      <td>4325</td>\n",
       "      <td>[\\n                        Wertland Street/The...</td>\n",
       "      <td>https://charlottesville.craigslist.org/apa/d/c...</td>\n",
       "      <td>apartment</td>\n",
       "    </tr>\n",
       "    <tr>\n",
       "      <th>13</th>\n",
       "      <td>wertland apartments - best location &amp; best pri...</td>\n",
       "      <td>3950</td>\n",
       "      <td>[\\n                        The Corner/Wertland...</td>\n",
       "      <td>https://charlottesville.craigslist.org/apa/d/c...</td>\n",
       "      <td>missing</td>\n",
       "    </tr>\n",
       "    <tr>\n",
       "      <th>14</th>\n",
       "      <td>hardwood floors, big kitchen, 3 stories! call ...</td>\n",
       "      <td>3400</td>\n",
       "      <td>[\\n                        Preston/Cabell Aven...</td>\n",
       "      <td>https://charlottesville.craigslist.org/apa/d/c...</td>\n",
       "      <td>missing</td>\n",
       "    </tr>\n",
       "  </tbody>\n",
       "</table>\n",
       "</div>"
      ],
      "text/plain": [
       "                                                title  price  \\\n",
       "0   609 e. market st.#301 fully furnished luxury s...   2500   \n",
       "1     3br/2ba luxury apt home ** on amazing special**   2369   \n",
       "2                      luxury 1bd/1ba apartment home.   1875   \n",
       "3                                     roommate wanted   1500   \n",
       "4        pet friendly 4br duplex - 1.9 miles from uva   3100   \n",
       "5   beautiful house in great location for grad stu...   3500   \n",
       "6            check out this 4 bdrm 4 bath - apartment   3475   \n",
       "7           pet friendly 2 bedroom, 1.5 bath townhome   2100   \n",
       "8   1br 1ba within walking distance to grounds-low...   1350   \n",
       "9    two bedroom pet friendly ... ash tree apartments   1875   \n",
       "10  2101 jpa apartments are beautiful, spacious & ...   3950   \n",
       "11         2 br townhomes, close to uva, great price!   1875   \n",
       "12  your search for the perfect apartment is over ...   4325   \n",
       "13  wertland apartments - best location & best pri...   3950   \n",
       "14  hardwood floors, big kitchen, 3 stories! call ...   3400   \n",
       "\n",
       "                                             location  \\\n",
       "0   [\\n                        Downtown Charlottes...   \n",
       "1   [\\n                        The Reserve at Belv...   \n",
       "2   [\\n                        The Reserve at Belv...   \n",
       "3   [\\n                        29 North\\n         ...   \n",
       "4   [\\n                        101 Westerly Ave\\n ...   \n",
       "5   [\\n                        Lewis Mountain Road...   \n",
       "6   [\\n                        JPA/Fry Springs\\n  ...   \n",
       "7   [\\n                        John Street/Near Co...   \n",
       "8   [\\n                        16th Street\\n      ...   \n",
       "9   [\\n                        Charlottesville\\n  ...   \n",
       "10  [\\n                        JPA/Fontaine Ave\\n ...   \n",
       "11  [\\n                        Madison Avenue\\n   ...   \n",
       "12  [\\n                        Wertland Street/The...   \n",
       "13  [\\n                        The Corner/Wertland...   \n",
       "14  [\\n                        Preston/Cabell Aven...   \n",
       "\n",
       "                                                 link      brand  \n",
       "0   https://charlottesville.craigslist.org/apa/d/c...    missing  \n",
       "1   https://charlottesville.craigslist.org/apa/d/c...        apt  \n",
       "2   https://charlottesville.craigslist.org/apa/d/c...  apartment  \n",
       "3   https://charlottesville.craigslist.org/apa/d/r...    missing  \n",
       "4   https://charlottesville.craigslist.org/apa/d/c...    missing  \n",
       "5   https://charlottesville.craigslist.org/apa/d/c...    missing  \n",
       "6   https://charlottesville.craigslist.org/apa/d/c...  apartment  \n",
       "7   https://charlottesville.craigslist.org/apa/d/c...    missing  \n",
       "8   https://charlottesville.craigslist.org/apa/d/c...    missing  \n",
       "9   https://charlottesville.craigslist.org/apa/d/c...    missing  \n",
       "10  https://charlottesville.craigslist.org/apa/d/c...    missing  \n",
       "11  https://charlottesville.craigslist.org/apa/d/c...    missing  \n",
       "12  https://charlottesville.craigslist.org/apa/d/c...  apartment  \n",
       "13  https://charlottesville.craigslist.org/apa/d/c...    missing  \n",
       "14  https://charlottesville.craigslist.org/apa/d/c...    missing  "
      ]
     },
     "execution_count": 32,
     "metadata": {},
     "output_type": "execute_result"
    }
   ],
   "source": [
    "living = pd.DataFrame.from_dict(residence)\n",
    "\n",
    "living['price'] = living['price'].str.replace('$','')\n",
    "living['price'] = living['price'].str.replace(',','') # remove symbols\n",
    "\n",
    "living['price'] = pd.to_numeric(living['price']) # make price a numeric\n",
    "living.dtypes\n",
    "\n",
    "living.head(15)\n"
   ]
  },
  {
   "cell_type": "code",
   "execution_count": 34,
   "metadata": {},
   "outputs": [
    {
     "data": {
      "image/png": "[encoded data removed]",
      "text/plain": [
       "<Figure size 640x480 with 1 Axes>"
      ]
     },
     "metadata": {},
     "output_type": "display_data"
    }
   ],
   "source": [
    "sns.histplot(living['price'])\n",
    "\n",
    "plt.xticks(rotation=90)\n",
    "plt.tight_layout()\n",
    "plt.show()"
   ]
  },
  {
   "cell_type": "markdown",
   "metadata": {
    "id": "YBcg4XUoy3XZ"
   },
   "source": [
    "With the data in and wrangled, we can now do EDA:"
   ]
  },
  {
   "cell_type": "code",
   "execution_count": null,
   "metadata": {
    "id": "qBMwX_rFy3XZ",
    "outputId": "9abfa7a7-f4fb-4563-c0f6-531f74310c3e"
   },
   "outputs": [],
   "source": [
    "# EDA for price and age:\n",
    "print(df['price'].describe())\n",
    "df['price'].hist(grid=False)\n",
    "plt.show()\n",
    "print(df['age'].describe())\n",
    "df['age'].hist(grid=False)\n",
    "plt.show()"
   ]
  },
  {
   "cell_type": "code",
   "execution_count": 37,
   "metadata": {},
   "outputs": [
    {
     "name": "stdout",
     "output_type": "stream",
     "text": [
      "count      98.000000\n",
      "mean     1858.265306\n",
      "std       777.244254\n",
      "min         1.000000\n",
      "25%      1496.250000\n",
      "50%      1800.000000\n",
      "75%      2083.750000\n",
      "max      4325.000000\n",
      "Name: price, dtype: float64\n"
     ]
    },
    {
     "data": {
      "image/png": "[encoded data removed]",
      "text/plain": [
       "<Figure size 640x480 with 1 Axes>"
      ]
     },
     "metadata": {},
     "output_type": "display_data"
    }
   ],
   "source": [
    "print(living['price'].describe())\n",
    "living['price'].hist(grid=False)\n",
    "plt.show()"
   ]
  },
  {
   "cell_type": "code",
   "execution_count": null,
   "metadata": {
    "id": "xsJPUF2wy3XZ",
    "outputId": "9a613e49-3b2b-4214-9ae3-9a5f0986ff6e"
   },
   "outputs": [],
   "source": [
    "# Price by brand:\n",
    "df.loc[:,['price','brand']].groupby('brand').describe()"
   ]
  },
  {
   "cell_type": "code",
   "execution_count": 39,
   "metadata": {},
   "outputs": [
    {
     "data": {
      "text/html": [
       "<div>\n",
       "<style scoped>\n",
       "    .dataframe tbody tr th:only-of-type {\n",
       "        vertical-align: middle;\n",
       "    }\n",
       "\n",
       "    .dataframe tbody tr th {\n",
       "        vertical-align: top;\n",
       "    }\n",
       "\n",
       "    .dataframe thead tr th {\n",
       "        text-align: left;\n",
       "    }\n",
       "\n",
       "    .dataframe thead tr:last-of-type th {\n",
       "        text-align: right;\n",
       "    }\n",
       "</style>\n",
       "<table border=\"1\" class=\"dataframe\">\n",
       "  <thead>\n",
       "    <tr>\n",
       "      <th></th>\n",
       "      <th colspan=\"8\" halign=\"left\">price</th>\n",
       "    </tr>\n",
       "    <tr>\n",
       "      <th></th>\n",
       "      <th>count</th>\n",
       "      <th>mean</th>\n",
       "      <th>std</th>\n",
       "      <th>min</th>\n",
       "      <th>25%</th>\n",
       "      <th>50%</th>\n",
       "      <th>75%</th>\n",
       "      <th>max</th>\n",
       "    </tr>\n",
       "    <tr>\n",
       "      <th>brand</th>\n",
       "      <th></th>\n",
       "      <th></th>\n",
       "      <th></th>\n",
       "      <th></th>\n",
       "      <th></th>\n",
       "      <th></th>\n",
       "      <th></th>\n",
       "      <th></th>\n",
       "    </tr>\n",
       "  </thead>\n",
       "  <tbody>\n",
       "    <tr>\n",
       "      <th>apartment</th>\n",
       "      <td>13.0</td>\n",
       "      <td>1914.153846</td>\n",
       "      <td>956.616071</td>\n",
       "      <td>740.0</td>\n",
       "      <td>1515.00</td>\n",
       "      <td>1675.0</td>\n",
       "      <td>1875.00</td>\n",
       "      <td>4325.0</td>\n",
       "    </tr>\n",
       "    <tr>\n",
       "      <th>apt</th>\n",
       "      <td>10.0</td>\n",
       "      <td>1643.800000</td>\n",
       "      <td>558.232090</td>\n",
       "      <td>575.0</td>\n",
       "      <td>1512.25</td>\n",
       "      <td>1749.0</td>\n",
       "      <td>1899.00</td>\n",
       "      <td>2369.0</td>\n",
       "    </tr>\n",
       "    <tr>\n",
       "      <th>home</th>\n",
       "      <td>9.0</td>\n",
       "      <td>2104.888889</td>\n",
       "      <td>760.781743</td>\n",
       "      <td>1200.0</td>\n",
       "      <td>1700.00</td>\n",
       "      <td>1995.0</td>\n",
       "      <td>2500.00</td>\n",
       "      <td>3599.0</td>\n",
       "    </tr>\n",
       "    <tr>\n",
       "      <th>townhouse</th>\n",
       "      <td>8.0</td>\n",
       "      <td>1971.625000</td>\n",
       "      <td>366.291429</td>\n",
       "      <td>1500.0</td>\n",
       "      <td>1743.75</td>\n",
       "      <td>1924.5</td>\n",
       "      <td>2124.25</td>\n",
       "      <td>2500.0</td>\n",
       "    </tr>\n",
       "  </tbody>\n",
       "</table>\n",
       "</div>"
      ],
      "text/plain": [
       "          price                                                             \\\n",
       "          count         mean         std     min      25%     50%      75%   \n",
       "brand                                                                        \n",
       "apartment  13.0  1914.153846  956.616071   740.0  1515.00  1675.0  1875.00   \n",
       "apt        10.0  1643.800000  558.232090   575.0  1512.25  1749.0  1899.00   \n",
       "home        9.0  2104.888889  760.781743  1200.0  1700.00  1995.0  2500.00   \n",
       "townhouse   8.0  1971.625000  366.291429  1500.0  1743.75  1924.5  2124.25   \n",
       "\n",
       "                   \n",
       "              max  \n",
       "brand              \n",
       "apartment  4325.0  \n",
       "apt        2369.0  \n",
       "home       3599.0  \n",
       "townhouse  2500.0  "
      ]
     },
     "execution_count": 39,
     "metadata": {},
     "output_type": "execute_result"
    }
   ],
   "source": [
    "living.loc[:,['price','brand']].groupby('brand').describe().drop('missing') # hard to accomodate for messy spelling of the same brands"
   ]
  },
  {
   "cell_type": "code",
   "execution_count": null,
   "metadata": {
    "id": "9yERjzXQy3Xa",
    "outputId": "014888b7-7043-4e62-fee4-25ef1dc3f55d"
   },
   "outputs": [],
   "source": [
    "sns.jointplot(data=df, x='log_age', y='log_price',kind='hex')"
   ]
  },
  {
   "cell_type": "code",
   "execution_count": null,
   "metadata": {},
   "outputs": [],
   "source": [
    "# can't plot a jointplot because I don't have 2 numeric variables"
   ]
  },
  {
   "cell_type": "markdown",
   "metadata": {
    "id": "bvLzSN6Gy3Xb"
   },
   "source": [
    "## 4. (Optional) From your search results, crawl to the links and extract more information about every listing in your original dataframe. Wrangle and do some EDA."
   ]
  },
  {
   "cell_type": "markdown",
   "metadata": {
    "id": "dd00T888y3Xa"
   },
   "source": [
    "The final thing we want to do is go from scraping a single page to crawling around.\n",
    "\n",
    "The idea here is that every web page is connected to some other page. By extracting links as we move from page to page, we can create a web crawler that wanders around for us, gathering information of interest.\n",
    "\n",
    "In this case, we want to use the search results to then visit each individual page for each listing. Since we saved the links to the web pages in the previous scrape, we can now simply for-loop over that column in the dataframe, visiting the page listing for each of the cars in the search results:"
   ]
  },
  {
   "cell_type": "code",
   "execution_count": null,
   "metadata": {
    "id": "gah68Z75y3Xa"
   },
   "outputs": [],
   "source": [
    "import time # Time delays\n",
    "import random # Random numbers\n",
    "\n",
    "links = df['link']\n",
    "data = []\n",
    "for link in links: # about 3 minutes\n",
    "    time.sleep(random.randint(1, 3)) # Random delays\n",
    "    raw = requests.get(link,headers=header) # Get page\n",
    "    bsObj = soup(raw.content,'html.parser') # Parse the html\n",
    "    #\n",
    "    try:\n",
    "        year_post = bsObj.find(class_='attr important').find(class_ = 'valu year').get_text()\n",
    "    except:\n",
    "        year_post = np.nan\n",
    "    #\n",
    "    try:\n",
    "        condition = bsObj.find(class_='attr condition').find(href=True).get_text()\n",
    "    except:\n",
    "        condition = 'missing'\n",
    "    #\n",
    "    try:\n",
    "        cylinders = bsObj.find(class_='attr auto_cylinders').find(class_ = 'valu').get_text()\n",
    "        cylinders = cylinders.replace('\\n','')\n",
    "    except:\n",
    "        cylinders = 'missing'\n",
    "    #\n",
    "    try:\n",
    "        drivetrain = bsObj.find(class_='attr auto_drivetrain').find(href=True).get_text()\n",
    "    except:\n",
    "        drivetrain = 'missing'\n",
    "    #\n",
    "    try:\n",
    "        fuel = bsObj.find(class_='attr auto_fuel_type').find(href = True).get_text()\n",
    "    except:\n",
    "        fuel = 'missing'\n",
    "    #\n",
    "    try:\n",
    "        miles = bsObj.find(class_='attr auto_miles').find(class_ = 'valu').get_text()\n",
    "    except:\n",
    "        miles = np.nan\n",
    "    #\n",
    "    try:\n",
    "        color = bsObj.find(class_='attr auto_paint').find(href=True).get_text()\n",
    "    except:\n",
    "        color='missing'\n",
    "    #\n",
    "    try:\n",
    "        title = bsObj.find(class_='attr auto_title_status').find(href=True).get_text()\n",
    "    except:\n",
    "        title='missing'\n",
    "    #\n",
    "    try:\n",
    "        transmission = bsObj.find(class_='attr auto_transmission').find(href=True).get_text()\n",
    "    except:\n",
    "        transmission = 'missing'\n",
    "    #\n",
    "    try:\n",
    "        bodytype = bsObj.find(class_='attr auto_bodytype').find(href=True).get_text()\n",
    "    except:\n",
    "        bodytype = 'missing'\n",
    "    #\n",
    "    text = bsObj.find(id='postingbody').get_text()\n",
    "    text = text.replace('\\n','')\n",
    "    text = text.replace('QR Code Link to This Post','')\n",
    "    record = {'title':title,\n",
    "              'year_post':year_post,\n",
    "              'condition':condition,\n",
    "              'cylinders':cylinders,\n",
    "              'drivetrain':drivetrain,\n",
    "              'fuel':fuel,\n",
    "              'miles':miles,\n",
    "              'color':color,\n",
    "              'title':'title',\n",
    "              'transmission':transmission,\n",
    "              'bodytype':bodytype,\n",
    "              'text':text,}\n",
    "    data.append(record)"
   ]
  },
  {
   "cell_type": "markdown",
   "metadata": {
    "id": "ro7H8V54y3Xb"
   },
   "source": [
    "What are the new features here?\n",
    "\n",
    "First, we don't want to overwhelm the servers, so we put a small delay between each request of a listing, `time.sleep(random.randint(1, 3))`. This waits a random amount of time between 1 and 3 seconds to avoid overwhelming their server.\n",
    "\n",
    "Second, we use the try/except block. This is a useful control structure in general, but especially for web scraping. Python tries the statements under `try:`, and if it fails, executes the steps under `except:`. This can happen, in this case, with missing data, which crashes the crawler. Instead, we put our missing codes into our dataframe right away.\n",
    "\n",
    "Third, we used `.find().find().get_text()` to find the data we're looking for. In general, the structure of mark-up langauges like HTML and XML makes it possible to \"drill down\" into their entries and extract the information of interest. This exploitation of mark-up languages could be the subject of a whole course on procuring data from the web."
   ]
  },
  {
   "cell_type": "markdown",
   "metadata": {
    "id": "UrI6hrL6y3Xb"
   },
   "source": [
    "With the data scraped, we can make a new dataframe, combine it with the old one using `pd.concat`, and do some wrangling to clean the data up:"
   ]
  },
  {
   "cell_type": "code",
   "execution_count": null,
   "metadata": {
    "id": "SDM-sfRay3Xb"
   },
   "outputs": [],
   "source": [
    "new_df = pd.DataFrame.from_dict(data)\n",
    "new_df.head()\n",
    "\n",
    "df = pd.concat([df,new_df],axis=1) # combine data frames\n",
    "df.head()\n",
    "\n",
    "df['miles'] = df['miles'].str.replace(',','')\n",
    "df['miles'] = pd.to_numeric(df['miles'],errors='coerce')\n",
    "\n",
    "df['year_post'] = df['year_post'].str.replace(',','')\n",
    "df['year_post'] = pd.to_numeric(df['year_post'],errors='coerce')\n",
    "df.to_csv('craiglist_cville_cars_long.csv')"
   ]
  }
 ],
 "metadata": {
  "colab": {
   "provenance": []
  },
  "kernelspec": {
   "display_name": "Python 3 (ipykernel)",
   "language": "python",
   "name": "python3"
  },
  "language_info": {
   "codemirror_mode": {
    "name": "ipython",
    "version": 3
   },
   "file_extension": ".py",
   "mimetype": "text/x-python",
   "name": "python",
   "nbconvert_exporter": "python",
   "pygments_lexer": "ipython3",
   "version": "3.12.4"
  }
 },
 "nbformat": 4,
 "nbformat_minor": 4
}
