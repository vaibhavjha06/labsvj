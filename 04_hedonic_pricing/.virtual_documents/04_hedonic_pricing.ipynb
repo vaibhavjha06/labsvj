


import numpy as np
import seaborn as sns
import matplotlib.pyplot as plt
import pandas as pd


cars = pd.read_csv("/Users/vaibhavjha/labsvj/04_hedonic_pricing/cars_hw.csv")


# 1: Clean data, perform EDA & visualization
cars.head(10)
cars = cars.loc[:,'Make':'Price']
cars.head(10)

# cars[:].value_counts() # Too large to be informative
print(cars.dtypes)

# Histograms of numeric variables
cars['Price'].hist()
print(cars['Price'].max())
# One outlier: car with price of $2,941,000
cars['Mileage_Run'].hist()
cars['Seating_Capacity'].hist()

# Missing data
cars.loc[:,'Make':'Price'].isnull().sum() # no NA's


# EDA
sns.scatterplot(cars, x = cars['Mileage_Run'], y = cars['Price'], hue = cars['Make'])
# No clear relationship between the two variables
cars.boxplot(column = 'Price',by = 'Make')



