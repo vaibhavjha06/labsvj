











import urllib.request
import json
url = 'https://www.saferproducts.gov/RestWebServices/' # Location of the API
query = 'Recall?format=json&ProductType=Exercise' # The query
response = urllib.request.urlopen(url+query)
response_bytes = response.read()
data = json.loads(response_bytes) # Convert response to json
response.close()

print(data)


import pandas as pd
df = pd.DataFrame.from_dict(data)
df.head(5)





# Having nested dictionaries is having dictionaries within a dictionary
import seaborn as sns
import matplotlib.pyplot as plt

def extract_nested_key(df_column, key='Option', new_column_name='flattened_values'):
    clean_values = [] 
    # Iterate over each row in the column
    for i in range(len(df_column)):
        if len(df_column[i]) > 0:  # Check if the list is not empty
            values = [] # created a temp list
            for j in range(len(df_column[i])):  # Extract the specific key from each dictionary
                if key in df_column[i][j]:
                    values.append(df_column[i][j][key]) # adds values to values
            clean_values.append(values) # adds values to clean_values
        else:
            clean_values.append('') # If list is empty, add nothing to clean_values list
    
    return pd.Series(clean_values, name=new_column_name)

# used ChatGPT to understand the function more

df['remedy'] = extract_nested_key(df['RemedyOptions'], key='Option', new_column_name='remedy')
df['remedy'].head(20)

remedy_counts = pd.Series([item for sublist in df['remedy'] for item in (sublist if isinstance(sublist, list) else [])]).value_counts()
sns.barplot(x=remedy_counts.index, y=remedy_counts.values)
plt.xlabel("Type")








